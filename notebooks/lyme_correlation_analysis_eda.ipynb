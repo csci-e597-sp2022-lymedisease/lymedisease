{
  "nbformat": 4,
  "nbformat_minor": 0,
  "metadata": {
    "colab": {
      "name": "lyme_regression_analysis_eda.ipynb",
      "provenance": [],
      "collapsed_sections": []
    },
    "kernelspec": {
      "name": "python3",
      "display_name": "Python 3"
    },
    "language_info": {
      "name": "python"
    }
  },
  "cells": [
    {
      "cell_type": "markdown",
      "source": [
        "**Import Libraries**"
      ],
      "metadata": {
        "id": "nLRAu-m2RYcL"
      }
    },
    {
      "cell_type": "code",
      "source": [
        "import pandas as pd\n",
        "import matplotlib.pyplot as plt\n",
        "from scipy.stats import pearsonr, spearmanr"
      ],
      "metadata": {
        "id": "ncpBl58b95di"
      },
      "execution_count": null,
      "outputs": []
    },
    {
      "cell_type": "markdown",
      "source": [
        "**Map google drive**"
      ],
      "metadata": {
        "id": "gOPr6OFTRcUT"
      }
    },
    {
      "cell_type": "code",
      "execution_count": null,
      "metadata": {
        "colab": {
          "base_uri": "https://localhost:8080/"
        },
        "id": "z8pX8Ip_72y_",
        "outputId": "e8ddc9f2-54bc-48c8-c3e9-dd52b4b7f443"
      },
      "outputs": [
        {
          "output_type": "stream",
          "name": "stdout",
          "text": [
            "Drive already mounted at /content/drive; to attempt to forcibly remount, call drive.mount(\"/content/drive\", force_remount=True).\n"
          ]
        }
      ],
      "source": [
        "from google.colab import drive\n",
        "drive.mount('/content/drive')"
      ]
    },
    {
      "cell_type": "code",
      "source": [
        "!ls '/content/drive/MyDrive/Lyme_Data_and_Notebook_Codes'"
      ],
      "metadata": {
        "colab": {
          "base_uri": "https://localhost:8080/"
        },
        "id": "FbYKVP2H8fVD",
        "outputId": "b4527f4f-700f-42ae-f07b-13449364f734"
      },
      "execution_count": null,
      "outputs": [
        {
          "output_type": "stream",
          "name": "stdout",
          "text": [
            "capstone_project_code_samples.ipynb\n",
            "carmen_tweets_350k.csv\n",
            "carmen_tweets_keywords_pos.csv\n",
            "cleaned_labeled_lyme_tweet.csv\n",
            "df_cdc_tweets_county_state_year_counts.csv\n",
            "LD-Case-Counts-by-County-00-19.csv\n",
            "Lyme_Classify_Model_35k_Tweets_AN_Keywords.ipynb\n",
            "Lyme_Classify_Model_60k_Tweets_AN_FL_Dr_Keywords.ipynb\n",
            "Lyme_EDA.ipynb\n",
            "lyme_places_010110_123121.csv\n",
            "lyme_tweets_010110_123121.csv\n",
            "NLP_train.csv\n"
          ]
        }
      ]
    },
    {
      "cell_type": "markdown",
      "source": [
        "**Transform tweets data into desired data structure**"
      ],
      "metadata": {
        "id": "IvKPZ6n7RhYx"
      }
    },
    {
      "cell_type": "code",
      "source": [
        "df_lyme_tweets = pd.read_csv('/content/drive/MyDrive/Lyme_Data_and_Notebook_Codes/carmen_tweets_keywords_pos.csv')\n",
        "df_lyme_tweets.head()"
      ],
      "metadata": {
        "colab": {
          "base_uri": "https://localhost:8080/",
          "height": 548
        },
        "id": "cIS9T0xKSCXG",
        "outputId": "d216d0b5-ad78-4bcc-ebd3-58f22a17b8d5"
      },
      "execution_count": null,
      "outputs": [
        {
          "output_type": "stream",
          "name": "stderr",
          "text": [
            "/usr/local/lib/python3.7/dist-packages/IPython/core/interactiveshell.py:2882: DtypeWarning: Columns (12) have mixed types.Specify dtype option on import or set low_memory=False.\n",
            "  exec(code_obj, self.user_global_ns, self.user_ns)\n"
          ]
        },
        {
          "output_type": "execute_result",
          "data": {
            "text/html": [
              "\n",
              "  <div id=\"df-005fd2ca-dadf-4481-bd43-42b0c60f0d96\">\n",
              "    <div class=\"colab-df-container\">\n",
              "      <div>\n",
              "<style scoped>\n",
              "    .dataframe tbody tr th:only-of-type {\n",
              "        vertical-align: middle;\n",
              "    }\n",
              "\n",
              "    .dataframe tbody tr th {\n",
              "        vertical-align: top;\n",
              "    }\n",
              "\n",
              "    .dataframe thead th {\n",
              "        text-align: right;\n",
              "    }\n",
              "</style>\n",
              "<table border=\"1\" class=\"dataframe\">\n",
              "  <thead>\n",
              "    <tr style=\"text-align: right;\">\n",
              "      <th></th>\n",
              "      <th>Unnamed: 0</th>\n",
              "      <th>Unnamed: 0.1</th>\n",
              "      <th>id</th>\n",
              "      <th>text</th>\n",
              "      <th>author_id</th>\n",
              "      <th>public_metrics</th>\n",
              "      <th>created_at</th>\n",
              "      <th>in_reply_to_user_id</th>\n",
              "      <th>conversation_id</th>\n",
              "      <th>reply_settings</th>\n",
              "      <th>source</th>\n",
              "      <th>referenced_tweets</th>\n",
              "      <th>context_annotations</th>\n",
              "      <th>entities</th>\n",
              "      <th>user</th>\n",
              "      <th>user_name</th>\n",
              "      <th>city</th>\n",
              "      <th>state</th>\n",
              "      <th>county</th>\n",
              "      <th>country</th>\n",
              "    </tr>\n",
              "  </thead>\n",
              "  <tbody>\n",
              "    <tr>\n",
              "      <th>0</th>\n",
              "      <td>0</td>\n",
              "      <td>0</td>\n",
              "      <td>20956486280679425</td>\n",
              "      <td>If chronic wasting disease &amp; Lyme aren't enuf,...</td>\n",
              "      <td>41497253</td>\n",
              "      <td>{'retweet_count': 0, 'reply_count': 0, 'like_c...</td>\n",
              "      <td>2010-12-31T21:36:30.000Z</td>\n",
              "      <td>NaN</td>\n",
              "      <td>20956486280679425</td>\n",
              "      <td>everyone</td>\n",
              "      <td>Twitter Web Client</td>\n",
              "      <td>NaN</td>\n",
              "      <td>NaN</td>\n",
              "      <td>NaN</td>\n",
              "      <td>{'public_metrics': {'followers_count': 128, 'f...</td>\n",
              "      <td>peak2wave</td>\n",
              "      <td>Virginia Beach</td>\n",
              "      <td>Virginia</td>\n",
              "      <td>Virginia Beach City</td>\n",
              "      <td>United States</td>\n",
              "    </tr>\n",
              "    <tr>\n",
              "      <th>1</th>\n",
              "      <td>1</td>\n",
              "      <td>1</td>\n",
              "      <td>20894962665132032</td>\n",
              "      <td>My dog contracted Lyme disease. I have several...</td>\n",
              "      <td>76048819</td>\n",
              "      <td>{'retweet_count': 1, 'reply_count': 0, 'like_c...</td>\n",
              "      <td>2010-12-31T17:32:01.000Z</td>\n",
              "      <td>NaN</td>\n",
              "      <td>20894962665132032</td>\n",
              "      <td>everyone</td>\n",
              "      <td>TweetDeck</td>\n",
              "      <td>NaN</td>\n",
              "      <td>NaN</td>\n",
              "      <td>{'annotations': [{'start': 63, 'end': 69, 'pro...</td>\n",
              "      <td>{'public_metrics': {'followers_count': 3088, '...</td>\n",
              "      <td>DrFoxVet</td>\n",
              "      <td>Winston-Salem</td>\n",
              "      <td>North Carolina</td>\n",
              "      <td>Forsyth County</td>\n",
              "      <td>United States</td>\n",
              "    </tr>\n",
              "    <tr>\n",
              "      <th>2</th>\n",
              "      <td>8</td>\n",
              "      <td>8</td>\n",
              "      <td>20820073241387009</td>\n",
              "      <td>http://bit.ly/ikrOgy Weird Skin With Chronic L...</td>\n",
              "      <td>119030636</td>\n",
              "      <td>{'retweet_count': 0, 'reply_count': 0, 'like_c...</td>\n",
              "      <td>2010-12-31T12:34:26.000Z</td>\n",
              "      <td>NaN</td>\n",
              "      <td>20820073241387009</td>\n",
              "      <td>everyone</td>\n",
              "      <td>Twitter Web Client</td>\n",
              "      <td>NaN</td>\n",
              "      <td>NaN</td>\n",
              "      <td>NaN</td>\n",
              "      <td>{'public_metrics': {'followers_count': 47, 'fo...</td>\n",
              "      <td>zeruelb</td>\n",
              "      <td>Jacksonville</td>\n",
              "      <td>Florida</td>\n",
              "      <td>Duval County</td>\n",
              "      <td>United States</td>\n",
              "    </tr>\n",
              "    <tr>\n",
              "      <th>3</th>\n",
              "      <td>9</td>\n",
              "      <td>9</td>\n",
              "      <td>20820036151156736</td>\n",
              "      <td>Weird Skin With Chronic Lyme Disease Pictures?...</td>\n",
              "      <td>118625413</td>\n",
              "      <td>{'retweet_count': 0, 'reply_count': 0, 'like_c...</td>\n",
              "      <td>2010-12-31T12:34:18.000Z</td>\n",
              "      <td>NaN</td>\n",
              "      <td>20820036151156736</td>\n",
              "      <td>everyone</td>\n",
              "      <td>Twitter Web Client</td>\n",
              "      <td>NaN</td>\n",
              "      <td>NaN</td>\n",
              "      <td>NaN</td>\n",
              "      <td>{'public_metrics': {'followers_count': 235, 'f...</td>\n",
              "      <td>aelanekf</td>\n",
              "      <td>Fort Worth</td>\n",
              "      <td>Texas</td>\n",
              "      <td>Tarrant County</td>\n",
              "      <td>United States</td>\n",
              "    </tr>\n",
              "    <tr>\n",
              "      <th>4</th>\n",
              "      <td>10</td>\n",
              "      <td>10</td>\n",
              "      <td>20759652782309377</td>\n",
              "      <td>What are the symptoms of lyme disease in a dog...</td>\n",
              "      <td>119004023</td>\n",
              "      <td>{'retweet_count': 0, 'reply_count': 0, 'like_c...</td>\n",
              "      <td>2010-12-31T08:34:21.000Z</td>\n",
              "      <td>NaN</td>\n",
              "      <td>20759652782309377</td>\n",
              "      <td>everyone</td>\n",
              "      <td>Twitter Web Client</td>\n",
              "      <td>NaN</td>\n",
              "      <td>NaN</td>\n",
              "      <td>NaN</td>\n",
              "      <td>{'public_metrics': {'followers_count': 40, 'fo...</td>\n",
              "      <td>bbradn</td>\n",
              "      <td>Mesa</td>\n",
              "      <td>Arizona</td>\n",
              "      <td>Maricopa County</td>\n",
              "      <td>United States</td>\n",
              "    </tr>\n",
              "  </tbody>\n",
              "</table>\n",
              "</div>\n",
              "      <button class=\"colab-df-convert\" onclick=\"convertToInteractive('df-005fd2ca-dadf-4481-bd43-42b0c60f0d96')\"\n",
              "              title=\"Convert this dataframe to an interactive table.\"\n",
              "              style=\"display:none;\">\n",
              "        \n",
              "  <svg xmlns=\"http://www.w3.org/2000/svg\" height=\"24px\"viewBox=\"0 0 24 24\"\n",
              "       width=\"24px\">\n",
              "    <path d=\"M0 0h24v24H0V0z\" fill=\"none\"/>\n",
              "    <path d=\"M18.56 5.44l.94 2.06.94-2.06 2.06-.94-2.06-.94-.94-2.06-.94 2.06-2.06.94zm-11 1L8.5 8.5l.94-2.06 2.06-.94-2.06-.94L8.5 2.5l-.94 2.06-2.06.94zm10 10l.94 2.06.94-2.06 2.06-.94-2.06-.94-.94-2.06-.94 2.06-2.06.94z\"/><path d=\"M17.41 7.96l-1.37-1.37c-.4-.4-.92-.59-1.43-.59-.52 0-1.04.2-1.43.59L10.3 9.45l-7.72 7.72c-.78.78-.78 2.05 0 2.83L4 21.41c.39.39.9.59 1.41.59.51 0 1.02-.2 1.41-.59l7.78-7.78 2.81-2.81c.8-.78.8-2.07 0-2.86zM5.41 20L4 18.59l7.72-7.72 1.47 1.35L5.41 20z\"/>\n",
              "  </svg>\n",
              "      </button>\n",
              "      \n",
              "  <style>\n",
              "    .colab-df-container {\n",
              "      display:flex;\n",
              "      flex-wrap:wrap;\n",
              "      gap: 12px;\n",
              "    }\n",
              "\n",
              "    .colab-df-convert {\n",
              "      background-color: #E8F0FE;\n",
              "      border: none;\n",
              "      border-radius: 50%;\n",
              "      cursor: pointer;\n",
              "      display: none;\n",
              "      fill: #1967D2;\n",
              "      height: 32px;\n",
              "      padding: 0 0 0 0;\n",
              "      width: 32px;\n",
              "    }\n",
              "\n",
              "    .colab-df-convert:hover {\n",
              "      background-color: #E2EBFA;\n",
              "      box-shadow: 0px 1px 2px rgba(60, 64, 67, 0.3), 0px 1px 3px 1px rgba(60, 64, 67, 0.15);\n",
              "      fill: #174EA6;\n",
              "    }\n",
              "\n",
              "    [theme=dark] .colab-df-convert {\n",
              "      background-color: #3B4455;\n",
              "      fill: #D2E3FC;\n",
              "    }\n",
              "\n",
              "    [theme=dark] .colab-df-convert:hover {\n",
              "      background-color: #434B5C;\n",
              "      box-shadow: 0px 1px 3px 1px rgba(0, 0, 0, 0.15);\n",
              "      filter: drop-shadow(0px 1px 2px rgba(0, 0, 0, 0.3));\n",
              "      fill: #FFFFFF;\n",
              "    }\n",
              "  </style>\n",
              "\n",
              "      <script>\n",
              "        const buttonEl =\n",
              "          document.querySelector('#df-005fd2ca-dadf-4481-bd43-42b0c60f0d96 button.colab-df-convert');\n",
              "        buttonEl.style.display =\n",
              "          google.colab.kernel.accessAllowed ? 'block' : 'none';\n",
              "\n",
              "        async function convertToInteractive(key) {\n",
              "          const element = document.querySelector('#df-005fd2ca-dadf-4481-bd43-42b0c60f0d96');\n",
              "          const dataTable =\n",
              "            await google.colab.kernel.invokeFunction('convertToInteractive',\n",
              "                                                     [key], {});\n",
              "          if (!dataTable) return;\n",
              "\n",
              "          const docLinkHtml = 'Like what you see? Visit the ' +\n",
              "            '<a target=\"_blank\" href=https://colab.research.google.com/notebooks/data_table.ipynb>data table notebook</a>'\n",
              "            + ' to learn more about interactive tables.';\n",
              "          element.innerHTML = '';\n",
              "          dataTable['output_type'] = 'display_data';\n",
              "          await google.colab.output.renderOutput(dataTable, element);\n",
              "          const docLink = document.createElement('div');\n",
              "          docLink.innerHTML = docLinkHtml;\n",
              "          element.appendChild(docLink);\n",
              "        }\n",
              "      </script>\n",
              "    </div>\n",
              "  </div>\n",
              "  "
            ],
            "text/plain": [
              "   Unnamed: 0  Unnamed: 0.1  ...               county        country\n",
              "0           0             0  ...  Virginia Beach City  United States\n",
              "1           1             1  ...       Forsyth County  United States\n",
              "2           8             8  ...         Duval County  United States\n",
              "3           9             9  ...       Tarrant County  United States\n",
              "4          10            10  ...      Maricopa County  United States\n",
              "\n",
              "[5 rows x 20 columns]"
            ]
          },
          "metadata": {},
          "execution_count": 4
        }
      ]
    },
    {
      "cell_type": "code",
      "source": [
        "df_lyme_tweets.shape"
      ],
      "metadata": {
        "colab": {
          "base_uri": "https://localhost:8080/"
        },
        "id": "sXdkF2rWwG-9",
        "outputId": "c10b7e52-d2d7-4cd5-e977-ebaeb45911d8"
      },
      "execution_count": null,
      "outputs": [
        {
          "output_type": "execute_result",
          "data": {
            "text/plain": [
              "(179077, 20)"
            ]
          },
          "metadata": {},
          "execution_count": 5
        }
      ]
    },
    {
      "cell_type": "code",
      "source": [
        "df_lyme_tweets['created_at']= pd.to_datetime(df_lyme_tweets['created_at'])\n",
        "df_lyme_tweets_by_year_county_st =  df_lyme_tweets.groupby(['county','state',pd.DatetimeIndex(df_lyme_tweets['created_at']). year]).agg({'id':'count'}).reset_index()\n",
        "df_lyme_tweets_by_year_county_st.head()"
      ],
      "metadata": {
        "colab": {
          "base_uri": "https://localhost:8080/",
          "height": 206
        },
        "id": "raDOrNBE9HGC",
        "outputId": "bc811b55-07e8-416c-901c-602e33a04db4"
      },
      "execution_count": null,
      "outputs": [
        {
          "output_type": "execute_result",
          "data": {
            "text/html": [
              "\n",
              "  <div id=\"df-1ad7692c-12d1-4506-a8bc-b41bcb1ae349\">\n",
              "    <div class=\"colab-df-container\">\n",
              "      <div>\n",
              "<style scoped>\n",
              "    .dataframe tbody tr th:only-of-type {\n",
              "        vertical-align: middle;\n",
              "    }\n",
              "\n",
              "    .dataframe tbody tr th {\n",
              "        vertical-align: top;\n",
              "    }\n",
              "\n",
              "    .dataframe thead th {\n",
              "        text-align: right;\n",
              "    }\n",
              "</style>\n",
              "<table border=\"1\" class=\"dataframe\">\n",
              "  <thead>\n",
              "    <tr style=\"text-align: right;\">\n",
              "      <th></th>\n",
              "      <th>county</th>\n",
              "      <th>state</th>\n",
              "      <th>created_at</th>\n",
              "      <th>id</th>\n",
              "    </tr>\n",
              "  </thead>\n",
              "  <tbody>\n",
              "    <tr>\n",
              "      <th>0</th>\n",
              "      <td>Abbeville County</td>\n",
              "      <td>South Carolina</td>\n",
              "      <td>2012</td>\n",
              "      <td>1</td>\n",
              "    </tr>\n",
              "    <tr>\n",
              "      <th>1</th>\n",
              "      <td>Ada County</td>\n",
              "      <td>Idaho</td>\n",
              "      <td>2010</td>\n",
              "      <td>7</td>\n",
              "    </tr>\n",
              "    <tr>\n",
              "      <th>2</th>\n",
              "      <td>Ada County</td>\n",
              "      <td>Idaho</td>\n",
              "      <td>2011</td>\n",
              "      <td>4</td>\n",
              "    </tr>\n",
              "    <tr>\n",
              "      <th>3</th>\n",
              "      <td>Ada County</td>\n",
              "      <td>Idaho</td>\n",
              "      <td>2012</td>\n",
              "      <td>9</td>\n",
              "    </tr>\n",
              "    <tr>\n",
              "      <th>4</th>\n",
              "      <td>Ada County</td>\n",
              "      <td>Idaho</td>\n",
              "      <td>2013</td>\n",
              "      <td>15</td>\n",
              "    </tr>\n",
              "  </tbody>\n",
              "</table>\n",
              "</div>\n",
              "      <button class=\"colab-df-convert\" onclick=\"convertToInteractive('df-1ad7692c-12d1-4506-a8bc-b41bcb1ae349')\"\n",
              "              title=\"Convert this dataframe to an interactive table.\"\n",
              "              style=\"display:none;\">\n",
              "        \n",
              "  <svg xmlns=\"http://www.w3.org/2000/svg\" height=\"24px\"viewBox=\"0 0 24 24\"\n",
              "       width=\"24px\">\n",
              "    <path d=\"M0 0h24v24H0V0z\" fill=\"none\"/>\n",
              "    <path d=\"M18.56 5.44l.94 2.06.94-2.06 2.06-.94-2.06-.94-.94-2.06-.94 2.06-2.06.94zm-11 1L8.5 8.5l.94-2.06 2.06-.94-2.06-.94L8.5 2.5l-.94 2.06-2.06.94zm10 10l.94 2.06.94-2.06 2.06-.94-2.06-.94-.94-2.06-.94 2.06-2.06.94z\"/><path d=\"M17.41 7.96l-1.37-1.37c-.4-.4-.92-.59-1.43-.59-.52 0-1.04.2-1.43.59L10.3 9.45l-7.72 7.72c-.78.78-.78 2.05 0 2.83L4 21.41c.39.39.9.59 1.41.59.51 0 1.02-.2 1.41-.59l7.78-7.78 2.81-2.81c.8-.78.8-2.07 0-2.86zM5.41 20L4 18.59l7.72-7.72 1.47 1.35L5.41 20z\"/>\n",
              "  </svg>\n",
              "      </button>\n",
              "      \n",
              "  <style>\n",
              "    .colab-df-container {\n",
              "      display:flex;\n",
              "      flex-wrap:wrap;\n",
              "      gap: 12px;\n",
              "    }\n",
              "\n",
              "    .colab-df-convert {\n",
              "      background-color: #E8F0FE;\n",
              "      border: none;\n",
              "      border-radius: 50%;\n",
              "      cursor: pointer;\n",
              "      display: none;\n",
              "      fill: #1967D2;\n",
              "      height: 32px;\n",
              "      padding: 0 0 0 0;\n",
              "      width: 32px;\n",
              "    }\n",
              "\n",
              "    .colab-df-convert:hover {\n",
              "      background-color: #E2EBFA;\n",
              "      box-shadow: 0px 1px 2px rgba(60, 64, 67, 0.3), 0px 1px 3px 1px rgba(60, 64, 67, 0.15);\n",
              "      fill: #174EA6;\n",
              "    }\n",
              "\n",
              "    [theme=dark] .colab-df-convert {\n",
              "      background-color: #3B4455;\n",
              "      fill: #D2E3FC;\n",
              "    }\n",
              "\n",
              "    [theme=dark] .colab-df-convert:hover {\n",
              "      background-color: #434B5C;\n",
              "      box-shadow: 0px 1px 3px 1px rgba(0, 0, 0, 0.15);\n",
              "      filter: drop-shadow(0px 1px 2px rgba(0, 0, 0, 0.3));\n",
              "      fill: #FFFFFF;\n",
              "    }\n",
              "  </style>\n",
              "\n",
              "      <script>\n",
              "        const buttonEl =\n",
              "          document.querySelector('#df-1ad7692c-12d1-4506-a8bc-b41bcb1ae349 button.colab-df-convert');\n",
              "        buttonEl.style.display =\n",
              "          google.colab.kernel.accessAllowed ? 'block' : 'none';\n",
              "\n",
              "        async function convertToInteractive(key) {\n",
              "          const element = document.querySelector('#df-1ad7692c-12d1-4506-a8bc-b41bcb1ae349');\n",
              "          const dataTable =\n",
              "            await google.colab.kernel.invokeFunction('convertToInteractive',\n",
              "                                                     [key], {});\n",
              "          if (!dataTable) return;\n",
              "\n",
              "          const docLinkHtml = 'Like what you see? Visit the ' +\n",
              "            '<a target=\"_blank\" href=https://colab.research.google.com/notebooks/data_table.ipynb>data table notebook</a>'\n",
              "            + ' to learn more about interactive tables.';\n",
              "          element.innerHTML = '';\n",
              "          dataTable['output_type'] = 'display_data';\n",
              "          await google.colab.output.renderOutput(dataTable, element);\n",
              "          const docLink = document.createElement('div');\n",
              "          docLink.innerHTML = docLinkHtml;\n",
              "          element.appendChild(docLink);\n",
              "        }\n",
              "      </script>\n",
              "    </div>\n",
              "  </div>\n",
              "  "
            ],
            "text/plain": [
              "             county           state  created_at  id\n",
              "0  Abbeville County  South Carolina        2012   1\n",
              "1        Ada County           Idaho        2010   7\n",
              "2        Ada County           Idaho        2011   4\n",
              "3        Ada County           Idaho        2012   9\n",
              "4        Ada County           Idaho        2013  15"
            ]
          },
          "metadata": {},
          "execution_count": 7
        }
      ]
    },
    {
      "cell_type": "code",
      "source": [
        "df_lyme_tweets_by_year_county_st.shape"
      ],
      "metadata": {
        "colab": {
          "base_uri": "https://localhost:8080/"
        },
        "id": "-lZ8Y2iBLh52",
        "outputId": "67b3f5ef-dce1-415d-b12e-188ddceb4ce1"
      },
      "execution_count": null,
      "outputs": [
        {
          "output_type": "execute_result",
          "data": {
            "text/plain": [
              "(7609, 4)"
            ]
          },
          "metadata": {},
          "execution_count": 8
        }
      ]
    },
    {
      "cell_type": "markdown",
      "source": [
        "**Transform CDC data into desired data structure**"
      ],
      "metadata": {
        "id": "1BATQ6GsRyB3"
      }
    },
    {
      "cell_type": "code",
      "source": [
        "df_cdc = pd.read_csv('/content/drive/MyDrive/Lyme_Data_and_Notebook_Codes/LD-Case-Counts-by-County-00-19.csv')\n",
        "df_cdc.head()"
      ],
      "metadata": {
        "colab": {
          "base_uri": "https://localhost:8080/",
          "height": 357
        },
        "id": "52k4IPgFR5xd",
        "outputId": "6ce7f734-07e2-403b-c768-9bc2dbcee6bf"
      },
      "execution_count": null,
      "outputs": [
        {
          "output_type": "execute_result",
          "data": {
            "text/html": [
              "\n",
              "  <div id=\"df-bbe4dfda-1a45-45f4-a317-634246b5f201\">\n",
              "    <div class=\"colab-df-container\">\n",
              "      <div>\n",
              "<style scoped>\n",
              "    .dataframe tbody tr th:only-of-type {\n",
              "        vertical-align: middle;\n",
              "    }\n",
              "\n",
              "    .dataframe tbody tr th {\n",
              "        vertical-align: top;\n",
              "    }\n",
              "\n",
              "    .dataframe thead th {\n",
              "        text-align: right;\n",
              "    }\n",
              "</style>\n",
              "<table border=\"1\" class=\"dataframe\">\n",
              "  <thead>\n",
              "    <tr style=\"text-align: right;\">\n",
              "      <th></th>\n",
              "      <th>Ctyname</th>\n",
              "      <th>Stname</th>\n",
              "      <th>STCODE</th>\n",
              "      <th>CTYCODE</th>\n",
              "      <th>Cases2000</th>\n",
              "      <th>Cases2001</th>\n",
              "      <th>Cases2002</th>\n",
              "      <th>Cases2003</th>\n",
              "      <th>Cases2004</th>\n",
              "      <th>Cases2005</th>\n",
              "      <th>Cases2006</th>\n",
              "      <th>Cases2007</th>\n",
              "      <th>Cases2008</th>\n",
              "      <th>Cases2009</th>\n",
              "      <th>Cases2010</th>\n",
              "      <th>Cases2011</th>\n",
              "      <th>Cases2012</th>\n",
              "      <th>Cases2013</th>\n",
              "      <th>Cases2014</th>\n",
              "      <th>Cases2015</th>\n",
              "      <th>Cases2016</th>\n",
              "      <th>Cases2017</th>\n",
              "      <th>Cases2018</th>\n",
              "      <th>Cases2019</th>\n",
              "    </tr>\n",
              "  </thead>\n",
              "  <tbody>\n",
              "    <tr>\n",
              "      <th>0</th>\n",
              "      <td>Autauga County</td>\n",
              "      <td>Alabama</td>\n",
              "      <td>1</td>\n",
              "      <td>1</td>\n",
              "      <td>0</td>\n",
              "      <td>0</td>\n",
              "      <td>0</td>\n",
              "      <td>0</td>\n",
              "      <td>0</td>\n",
              "      <td>0</td>\n",
              "      <td>0</td>\n",
              "      <td>0</td>\n",
              "      <td>0</td>\n",
              "      <td>0</td>\n",
              "      <td>0</td>\n",
              "      <td>0</td>\n",
              "      <td>0</td>\n",
              "      <td>0</td>\n",
              "      <td>0</td>\n",
              "      <td>0</td>\n",
              "      <td>2</td>\n",
              "      <td>0</td>\n",
              "      <td>0</td>\n",
              "      <td>1</td>\n",
              "    </tr>\n",
              "    <tr>\n",
              "      <th>1</th>\n",
              "      <td>Baldwin County</td>\n",
              "      <td>Alabama</td>\n",
              "      <td>1</td>\n",
              "      <td>3</td>\n",
              "      <td>1</td>\n",
              "      <td>0</td>\n",
              "      <td>1</td>\n",
              "      <td>0</td>\n",
              "      <td>0</td>\n",
              "      <td>0</td>\n",
              "      <td>0</td>\n",
              "      <td>0</td>\n",
              "      <td>0</td>\n",
              "      <td>1</td>\n",
              "      <td>0</td>\n",
              "      <td>1</td>\n",
              "      <td>1</td>\n",
              "      <td>0</td>\n",
              "      <td>3</td>\n",
              "      <td>1</td>\n",
              "      <td>2</td>\n",
              "      <td>2</td>\n",
              "      <td>0</td>\n",
              "      <td>0</td>\n",
              "    </tr>\n",
              "    <tr>\n",
              "      <th>2</th>\n",
              "      <td>Barbour County</td>\n",
              "      <td>Alabama</td>\n",
              "      <td>1</td>\n",
              "      <td>5</td>\n",
              "      <td>0</td>\n",
              "      <td>0</td>\n",
              "      <td>0</td>\n",
              "      <td>0</td>\n",
              "      <td>0</td>\n",
              "      <td>0</td>\n",
              "      <td>0</td>\n",
              "      <td>0</td>\n",
              "      <td>0</td>\n",
              "      <td>0</td>\n",
              "      <td>0</td>\n",
              "      <td>1</td>\n",
              "      <td>0</td>\n",
              "      <td>0</td>\n",
              "      <td>0</td>\n",
              "      <td>0</td>\n",
              "      <td>0</td>\n",
              "      <td>0</td>\n",
              "      <td>0</td>\n",
              "      <td>1</td>\n",
              "    </tr>\n",
              "    <tr>\n",
              "      <th>3</th>\n",
              "      <td>Bibb County</td>\n",
              "      <td>Alabama</td>\n",
              "      <td>1</td>\n",
              "      <td>7</td>\n",
              "      <td>0</td>\n",
              "      <td>0</td>\n",
              "      <td>0</td>\n",
              "      <td>0</td>\n",
              "      <td>0</td>\n",
              "      <td>0</td>\n",
              "      <td>0</td>\n",
              "      <td>0</td>\n",
              "      <td>0</td>\n",
              "      <td>0</td>\n",
              "      <td>0</td>\n",
              "      <td>0</td>\n",
              "      <td>0</td>\n",
              "      <td>0</td>\n",
              "      <td>1</td>\n",
              "      <td>0</td>\n",
              "      <td>0</td>\n",
              "      <td>0</td>\n",
              "      <td>1</td>\n",
              "      <td>0</td>\n",
              "    </tr>\n",
              "    <tr>\n",
              "      <th>4</th>\n",
              "      <td>Blount County</td>\n",
              "      <td>Alabama</td>\n",
              "      <td>1</td>\n",
              "      <td>9</td>\n",
              "      <td>0</td>\n",
              "      <td>0</td>\n",
              "      <td>0</td>\n",
              "      <td>0</td>\n",
              "      <td>0</td>\n",
              "      <td>0</td>\n",
              "      <td>0</td>\n",
              "      <td>0</td>\n",
              "      <td>0</td>\n",
              "      <td>0</td>\n",
              "      <td>0</td>\n",
              "      <td>1</td>\n",
              "      <td>0</td>\n",
              "      <td>0</td>\n",
              "      <td>0</td>\n",
              "      <td>0</td>\n",
              "      <td>0</td>\n",
              "      <td>0</td>\n",
              "      <td>2</td>\n",
              "      <td>0</td>\n",
              "    </tr>\n",
              "  </tbody>\n",
              "</table>\n",
              "</div>\n",
              "      <button class=\"colab-df-convert\" onclick=\"convertToInteractive('df-bbe4dfda-1a45-45f4-a317-634246b5f201')\"\n",
              "              title=\"Convert this dataframe to an interactive table.\"\n",
              "              style=\"display:none;\">\n",
              "        \n",
              "  <svg xmlns=\"http://www.w3.org/2000/svg\" height=\"24px\"viewBox=\"0 0 24 24\"\n",
              "       width=\"24px\">\n",
              "    <path d=\"M0 0h24v24H0V0z\" fill=\"none\"/>\n",
              "    <path d=\"M18.56 5.44l.94 2.06.94-2.06 2.06-.94-2.06-.94-.94-2.06-.94 2.06-2.06.94zm-11 1L8.5 8.5l.94-2.06 2.06-.94-2.06-.94L8.5 2.5l-.94 2.06-2.06.94zm10 10l.94 2.06.94-2.06 2.06-.94-2.06-.94-.94-2.06-.94 2.06-2.06.94z\"/><path d=\"M17.41 7.96l-1.37-1.37c-.4-.4-.92-.59-1.43-.59-.52 0-1.04.2-1.43.59L10.3 9.45l-7.72 7.72c-.78.78-.78 2.05 0 2.83L4 21.41c.39.39.9.59 1.41.59.51 0 1.02-.2 1.41-.59l7.78-7.78 2.81-2.81c.8-.78.8-2.07 0-2.86zM5.41 20L4 18.59l7.72-7.72 1.47 1.35L5.41 20z\"/>\n",
              "  </svg>\n",
              "      </button>\n",
              "      \n",
              "  <style>\n",
              "    .colab-df-container {\n",
              "      display:flex;\n",
              "      flex-wrap:wrap;\n",
              "      gap: 12px;\n",
              "    }\n",
              "\n",
              "    .colab-df-convert {\n",
              "      background-color: #E8F0FE;\n",
              "      border: none;\n",
              "      border-radius: 50%;\n",
              "      cursor: pointer;\n",
              "      display: none;\n",
              "      fill: #1967D2;\n",
              "      height: 32px;\n",
              "      padding: 0 0 0 0;\n",
              "      width: 32px;\n",
              "    }\n",
              "\n",
              "    .colab-df-convert:hover {\n",
              "      background-color: #E2EBFA;\n",
              "      box-shadow: 0px 1px 2px rgba(60, 64, 67, 0.3), 0px 1px 3px 1px rgba(60, 64, 67, 0.15);\n",
              "      fill: #174EA6;\n",
              "    }\n",
              "\n",
              "    [theme=dark] .colab-df-convert {\n",
              "      background-color: #3B4455;\n",
              "      fill: #D2E3FC;\n",
              "    }\n",
              "\n",
              "    [theme=dark] .colab-df-convert:hover {\n",
              "      background-color: #434B5C;\n",
              "      box-shadow: 0px 1px 3px 1px rgba(0, 0, 0, 0.15);\n",
              "      filter: drop-shadow(0px 1px 2px rgba(0, 0, 0, 0.3));\n",
              "      fill: #FFFFFF;\n",
              "    }\n",
              "  </style>\n",
              "\n",
              "      <script>\n",
              "        const buttonEl =\n",
              "          document.querySelector('#df-bbe4dfda-1a45-45f4-a317-634246b5f201 button.colab-df-convert');\n",
              "        buttonEl.style.display =\n",
              "          google.colab.kernel.accessAllowed ? 'block' : 'none';\n",
              "\n",
              "        async function convertToInteractive(key) {\n",
              "          const element = document.querySelector('#df-bbe4dfda-1a45-45f4-a317-634246b5f201');\n",
              "          const dataTable =\n",
              "            await google.colab.kernel.invokeFunction('convertToInteractive',\n",
              "                                                     [key], {});\n",
              "          if (!dataTable) return;\n",
              "\n",
              "          const docLinkHtml = 'Like what you see? Visit the ' +\n",
              "            '<a target=\"_blank\" href=https://colab.research.google.com/notebooks/data_table.ipynb>data table notebook</a>'\n",
              "            + ' to learn more about interactive tables.';\n",
              "          element.innerHTML = '';\n",
              "          dataTable['output_type'] = 'display_data';\n",
              "          await google.colab.output.renderOutput(dataTable, element);\n",
              "          const docLink = document.createElement('div');\n",
              "          docLink.innerHTML = docLinkHtml;\n",
              "          element.appendChild(docLink);\n",
              "        }\n",
              "      </script>\n",
              "    </div>\n",
              "  </div>\n",
              "  "
            ],
            "text/plain": [
              "          Ctyname   Stname  STCODE  ...  Cases2017  Cases2018  Cases2019\n",
              "0  Autauga County  Alabama       1  ...          0          0          1\n",
              "1  Baldwin County  Alabama       1  ...          2          0          0\n",
              "2  Barbour County  Alabama       1  ...          0          0          1\n",
              "3     Bibb County  Alabama       1  ...          0          1          0\n",
              "4   Blount County  Alabama       1  ...          0          2          0\n",
              "\n",
              "[5 rows x 24 columns]"
            ]
          },
          "metadata": {},
          "execution_count": 9
        }
      ]
    },
    {
      "cell_type": "code",
      "source": [
        "\n",
        "df_cdc_transposed = df_cdc.melt(id_vars=['Ctyname','Stname','STCODE','CTYCODE']).set_axis(['county','state','st_code','cty_code','created_at','count'], axis='columns', inplace=False)\n",
        "df_cdc_transposed[\"created_at\"] = df_cdc_transposed[\"created_at\"].apply(lambda x: x.replace(\"Cases\", \"\"))\n",
        "df_cdc_transposed = df_cdc_transposed[['county','state','created_at','count']]\n",
        "print('\\nTransposed CDC data to the same format as tweets \\n')\n",
        "df_cdc_transposed.head()\n"
      ],
      "metadata": {
        "colab": {
          "base_uri": "https://localhost:8080/",
          "height": 258
        },
        "id": "Pn-812nVELot",
        "outputId": "d66e5030-41ed-4b11-edde-9af84f4a97fe"
      },
      "execution_count": null,
      "outputs": [
        {
          "output_type": "stream",
          "name": "stdout",
          "text": [
            "\n",
            "Transposed CDC data to the same format as tweets \n",
            "\n"
          ]
        },
        {
          "output_type": "execute_result",
          "data": {
            "text/html": [
              "\n",
              "  <div id=\"df-898d4c44-6791-437c-ad50-0662c18cf8ad\">\n",
              "    <div class=\"colab-df-container\">\n",
              "      <div>\n",
              "<style scoped>\n",
              "    .dataframe tbody tr th:only-of-type {\n",
              "        vertical-align: middle;\n",
              "    }\n",
              "\n",
              "    .dataframe tbody tr th {\n",
              "        vertical-align: top;\n",
              "    }\n",
              "\n",
              "    .dataframe thead th {\n",
              "        text-align: right;\n",
              "    }\n",
              "</style>\n",
              "<table border=\"1\" class=\"dataframe\">\n",
              "  <thead>\n",
              "    <tr style=\"text-align: right;\">\n",
              "      <th></th>\n",
              "      <th>county</th>\n",
              "      <th>state</th>\n",
              "      <th>created_at</th>\n",
              "      <th>count</th>\n",
              "    </tr>\n",
              "  </thead>\n",
              "  <tbody>\n",
              "    <tr>\n",
              "      <th>0</th>\n",
              "      <td>Autauga County</td>\n",
              "      <td>Alabama</td>\n",
              "      <td>2000</td>\n",
              "      <td>0</td>\n",
              "    </tr>\n",
              "    <tr>\n",
              "      <th>1</th>\n",
              "      <td>Baldwin County</td>\n",
              "      <td>Alabama</td>\n",
              "      <td>2000</td>\n",
              "      <td>1</td>\n",
              "    </tr>\n",
              "    <tr>\n",
              "      <th>2</th>\n",
              "      <td>Barbour County</td>\n",
              "      <td>Alabama</td>\n",
              "      <td>2000</td>\n",
              "      <td>0</td>\n",
              "    </tr>\n",
              "    <tr>\n",
              "      <th>3</th>\n",
              "      <td>Bibb County</td>\n",
              "      <td>Alabama</td>\n",
              "      <td>2000</td>\n",
              "      <td>0</td>\n",
              "    </tr>\n",
              "    <tr>\n",
              "      <th>4</th>\n",
              "      <td>Blount County</td>\n",
              "      <td>Alabama</td>\n",
              "      <td>2000</td>\n",
              "      <td>0</td>\n",
              "    </tr>\n",
              "  </tbody>\n",
              "</table>\n",
              "</div>\n",
              "      <button class=\"colab-df-convert\" onclick=\"convertToInteractive('df-898d4c44-6791-437c-ad50-0662c18cf8ad')\"\n",
              "              title=\"Convert this dataframe to an interactive table.\"\n",
              "              style=\"display:none;\">\n",
              "        \n",
              "  <svg xmlns=\"http://www.w3.org/2000/svg\" height=\"24px\"viewBox=\"0 0 24 24\"\n",
              "       width=\"24px\">\n",
              "    <path d=\"M0 0h24v24H0V0z\" fill=\"none\"/>\n",
              "    <path d=\"M18.56 5.44l.94 2.06.94-2.06 2.06-.94-2.06-.94-.94-2.06-.94 2.06-2.06.94zm-11 1L8.5 8.5l.94-2.06 2.06-.94-2.06-.94L8.5 2.5l-.94 2.06-2.06.94zm10 10l.94 2.06.94-2.06 2.06-.94-2.06-.94-.94-2.06-.94 2.06-2.06.94z\"/><path d=\"M17.41 7.96l-1.37-1.37c-.4-.4-.92-.59-1.43-.59-.52 0-1.04.2-1.43.59L10.3 9.45l-7.72 7.72c-.78.78-.78 2.05 0 2.83L4 21.41c.39.39.9.59 1.41.59.51 0 1.02-.2 1.41-.59l7.78-7.78 2.81-2.81c.8-.78.8-2.07 0-2.86zM5.41 20L4 18.59l7.72-7.72 1.47 1.35L5.41 20z\"/>\n",
              "  </svg>\n",
              "      </button>\n",
              "      \n",
              "  <style>\n",
              "    .colab-df-container {\n",
              "      display:flex;\n",
              "      flex-wrap:wrap;\n",
              "      gap: 12px;\n",
              "    }\n",
              "\n",
              "    .colab-df-convert {\n",
              "      background-color: #E8F0FE;\n",
              "      border: none;\n",
              "      border-radius: 50%;\n",
              "      cursor: pointer;\n",
              "      display: none;\n",
              "      fill: #1967D2;\n",
              "      height: 32px;\n",
              "      padding: 0 0 0 0;\n",
              "      width: 32px;\n",
              "    }\n",
              "\n",
              "    .colab-df-convert:hover {\n",
              "      background-color: #E2EBFA;\n",
              "      box-shadow: 0px 1px 2px rgba(60, 64, 67, 0.3), 0px 1px 3px 1px rgba(60, 64, 67, 0.15);\n",
              "      fill: #174EA6;\n",
              "    }\n",
              "\n",
              "    [theme=dark] .colab-df-convert {\n",
              "      background-color: #3B4455;\n",
              "      fill: #D2E3FC;\n",
              "    }\n",
              "\n",
              "    [theme=dark] .colab-df-convert:hover {\n",
              "      background-color: #434B5C;\n",
              "      box-shadow: 0px 1px 3px 1px rgba(0, 0, 0, 0.15);\n",
              "      filter: drop-shadow(0px 1px 2px rgba(0, 0, 0, 0.3));\n",
              "      fill: #FFFFFF;\n",
              "    }\n",
              "  </style>\n",
              "\n",
              "      <script>\n",
              "        const buttonEl =\n",
              "          document.querySelector('#df-898d4c44-6791-437c-ad50-0662c18cf8ad button.colab-df-convert');\n",
              "        buttonEl.style.display =\n",
              "          google.colab.kernel.accessAllowed ? 'block' : 'none';\n",
              "\n",
              "        async function convertToInteractive(key) {\n",
              "          const element = document.querySelector('#df-898d4c44-6791-437c-ad50-0662c18cf8ad');\n",
              "          const dataTable =\n",
              "            await google.colab.kernel.invokeFunction('convertToInteractive',\n",
              "                                                     [key], {});\n",
              "          if (!dataTable) return;\n",
              "\n",
              "          const docLinkHtml = 'Like what you see? Visit the ' +\n",
              "            '<a target=\"_blank\" href=https://colab.research.google.com/notebooks/data_table.ipynb>data table notebook</a>'\n",
              "            + ' to learn more about interactive tables.';\n",
              "          element.innerHTML = '';\n",
              "          dataTable['output_type'] = 'display_data';\n",
              "          await google.colab.output.renderOutput(dataTable, element);\n",
              "          const docLink = document.createElement('div');\n",
              "          docLink.innerHTML = docLinkHtml;\n",
              "          element.appendChild(docLink);\n",
              "        }\n",
              "      </script>\n",
              "    </div>\n",
              "  </div>\n",
              "  "
            ],
            "text/plain": [
              "           county    state created_at  count\n",
              "0  Autauga County  Alabama       2000      0\n",
              "1  Baldwin County  Alabama       2000      1\n",
              "2  Barbour County  Alabama       2000      0\n",
              "3     Bibb County  Alabama       2000      0\n",
              "4   Blount County  Alabama       2000      0"
            ]
          },
          "metadata": {},
          "execution_count": 10
        }
      ]
    },
    {
      "cell_type": "code",
      "source": [
        "print(df_cdc_transposed.shape)"
      ],
      "metadata": {
        "colab": {
          "base_uri": "https://localhost:8080/"
        },
        "id": "WwpjlO8jInz4",
        "outputId": "504defc3-c64b-45bb-f603-3e81f17d7854"
      },
      "execution_count": null,
      "outputs": [
        {
          "output_type": "stream",
          "name": "stdout",
          "text": [
            "(63860, 4)\n"
          ]
        }
      ]
    },
    {
      "cell_type": "markdown",
      "source": [
        "**Merging (inner join) CDC and tweets data by county,state and year**"
      ],
      "metadata": {
        "id": "6NeyfRqVSQqk"
      }
    },
    {
      "cell_type": "code",
      "source": [
        "df_cdc_transposed.created_at = df_cdc_transposed.created_at.astype(int)\n",
        "df_cdc_tweets_county_state_year_counts = pd.merge(df_lyme_tweets_by_year_county_st, df_cdc_transposed, on=['county','state','created_at'], how='inner').set_axis(['county','state','year','tweet_count','cdc_count'], axis='columns', inplace=False)\n",
        "\n"
      ],
      "metadata": {
        "id": "Ty-zuEjzLfcH"
      },
      "execution_count": 63,
      "outputs": []
    },
    {
      "cell_type": "markdown",
      "source": [
        "**Merging (right outer join) CDC and tweets data by county,state and year**"
      ],
      "metadata": {
        "id": "fnXtrxpRWa9a"
      }
    },
    {
      "cell_type": "code",
      "source": [
        "df_cdc_transposed.created_at = df_cdc_transposed.created_at.astype(int)\n",
        "\n",
        "df_cdc_tweets_county_state_year_counts = pd.merge(df_lyme_tweets_by_year_county_st, df_cdc_transposed, on=['county','state','created_at'], how='outer').set_axis(['county','state','year','tweet_count','cdc_count'], axis='columns', inplace=False)\n",
        "\n",
        "df_cdc_tweets_county_state_year_counts = df_cdc_tweets_county_state_year_counts.fillna(0)\n"
      ],
      "metadata": {
        "id": "p27AEVauWLIp"
      },
      "execution_count": 31,
      "outputs": []
    },
    {
      "cell_type": "code",
      "source": [
        "df_cdc_tweets_county_state_year_counts.to_csv('/content/drive/MyDrive/Lyme_Data_and_Notebook_Codes/df_cdc_tweets_county_state_year_counts.csv')"
      ],
      "metadata": {
        "id": "E96rUKlwMo7Q"
      },
      "execution_count": null,
      "outputs": []
    },
    {
      "cell_type": "code",
      "source": [
        "\n",
        "def plot_cdc_tweets(year,state,join_type='inner'):\n",
        "\n",
        "  df_cdc_transposed.created_at = df_cdc_transposed.created_at.astype(int)\n",
        "  df_cdc_tweets_county_state_year_counts = pd.merge(df_lyme_tweets_by_year_county_st, df_cdc_transposed, on=['county','state','created_at'], how=join_type).set_axis(['county','state','year','tweet_count','cdc_count'], axis='columns', inplace=False)\n",
        "  df_cdc_tweets_county_state_year_counts = df_cdc_tweets_county_state_year_counts.fillna(0)\n",
        "\n",
        "\n",
        "  fig, axs = plt.subplots(2, 1,figsize=(15,10))\n",
        "  fig.suptitle('Tweets and CDC counts side by side for state : '+state+' and year :'+str(year))\n",
        "  sel_data = df_cdc_tweets_county_state_year_counts[(df_cdc_tweets_county_state_year_counts.year==year) & (df_cdc_tweets_county_state_year_counts.state == state)]\n",
        "  axs[0].plot(\"county\", \"tweet_count\", data=sel_data,color = 'b',ls = '--')\n",
        "  axs[1].plot(\"county\", \"cdc_count\", data=sel_data,color = 'r',ls = '-.')\n",
        "  axs[0].set_title('Tweets count by county for state : '+state+' and year :'+str(year))\n",
        "  axs[1].set_title('CDC count by county for state : '+state+' and year :'+str(year))\n",
        "  # lst  = df_cdc_tweets_county_state_year_counts[(df_cdc_tweets_county_state_year_counts.year==year) & (df_cdc_tweets_county_state_year_counts.state == state)]['county']\n",
        "  # axs[0].legend( lst)\n",
        "  for ax in axs.flat:\n",
        "      ax.set(xlabel='county', ylabel='count')\n",
        "      ax.set_xticklabels(ax.get_xticks())\n",
        "\n",
        "  corr_p, _ = pearsonr(sel_data['tweet_count'], sel_data['cdc_count'])\n",
        "  print('Pearsons correlation: %.3f' % corr_p)\n",
        "  corr_s, _ = spearmanr(sel_data['tweet_count'], sel_data['cdc_count'])\n",
        "  print('Spearman correlation: %.3f' % corr_s)\n",
        "  # print(lst)\n",
        "\n",
        "def plot_corr_metrics(state,join_type='inner'):\n",
        "\n",
        "  df_cdc_transposed.created_at = df_cdc_transposed.created_at.astype(int)\n",
        "  df_cdc_tweets_county_state_year_counts = pd.merge(df_lyme_tweets_by_year_county_st, df_cdc_transposed, on=['county','state','created_at'], how=join_type).set_axis(['county','state','year','tweet_count','cdc_count'], axis='columns', inplace=False)\n",
        "  df_cdc_tweets_county_state_year_counts = df_cdc_tweets_county_state_year_counts.fillna(0)\n",
        "\n",
        "  df = pd.DataFrame(columns = ['state','year','corr_p','corr_s'])\n",
        "\n",
        "  for year in range(2010,2020,1):\n",
        "    sel_data = df_cdc_tweets_county_state_year_counts[(df_cdc_tweets_county_state_year_counts.year==year) & (df_cdc_tweets_county_state_year_counts.state == state)]\n",
        "    corr_p, _ = pearsonr(sel_data['tweet_count'], sel_data['cdc_count'])\n",
        "    corr_s, _ = spearmanr(sel_data['tweet_count'], sel_data['cdc_count'])\n",
        "    df = df.append({'state':state,'year':year,'corr_p':corr_p,'corr_s':corr_s},ignore_index = True)\n",
        "\n",
        "  fig, axs = plt.subplots(1, 1,figsize=(10,8))\n",
        "  axs.plot(\"year\", \"corr_p\", data=df,color = 'b',ls = '--')\n",
        "  axs.set(xlabel='year', ylabel='corr_p')\n",
        "  plt.axhline(y = 0.5, color = 'r', linestyle = '-.')\n",
        "  return df\n",
        "\n",
        "\n",
        "\n"
      ],
      "metadata": {
        "id": "gq4BacoPZIgq"
      },
      "execution_count": 86,
      "outputs": []
    },
    {
      "cell_type": "code",
      "source": [
        "df_corr = plot_corr_metrics('Washington','inner')\n",
        "# print(df_corr)"
      ],
      "metadata": {
        "colab": {
          "base_uri": "https://localhost:8080/",
          "height": 498
        },
        "id": "GKgbg6xo8M6L",
        "outputId": "ff22d15c-a371-4414-b17d-6717c1c6bcd0"
      },
      "execution_count": 87,
      "outputs": [
        {
          "output_type": "display_data",
          "data": {
            "image/png": "[encoded data removed]",
            "text/plain": [
              "<Figure size 720x576 with 1 Axes>"
            ]
          },
          "metadata": {
            "needs_background": "light"
          }
        }
      ]
    },
    {
      "cell_type": "code",
      "source": [
        "df_corr = plot_corr_metrics('Washington','outer')\n",
        "# print(df_corr)"
      ],
      "metadata": {
        "colab": {
          "base_uri": "https://localhost:8080/",
          "height": 497
        },
        "id": "fCSdFg1ScWBO",
        "outputId": "f37eade2-be77-4cb4-97db-58461eba9d9f"
      },
      "execution_count": 88,
      "outputs": [
        {
          "output_type": "display_data",
          "data": {
            "image/png": "[encoded data removed]",
            "text/plain": [
              "<Figure size 720x576 with 1 Axes>"
            ]
          },
          "metadata": {
            "needs_background": "light"
          }
        }
      ]
    },
    {
      "cell_type": "code",
      "source": [
        "plot_cdc_tweets(2015,'Washington','inner')"
      ],
      "metadata": {
        "colab": {
          "base_uri": "https://localhost:8080/",
          "height": 711
        },
        "id": "EMcd1Seno9L9",
        "outputId": "de2fb0ec-cf50-4eef-cd00-48fd6756cdf5"
      },
      "execution_count": 89,
      "outputs": [
        {
          "output_type": "stream",
          "name": "stdout",
          "text": [
            "Pearsons correlation: 0.884\n",
            "Spearman correlation: 0.358\n"
          ]
        },
        {
          "output_type": "display_data",
          "data": {
            "image/png": "[encoded data removed]",
            "text/plain": [
              "<Figure size 1080x720 with 2 Axes>"
            ]
          },
          "metadata": {
            "needs_background": "light"
          }
        }
      ]
    },
    {
      "cell_type": "code",
      "source": [
        "plot_cdc_tweets(2015,'Washington','outer')"
      ],
      "metadata": {
        "colab": {
          "base_uri": "https://localhost:8080/",
          "height": 711
        },
        "id": "72BBTWTGa3Ml",
        "outputId": "38ef6418-850f-43f5-f8a1-500484665acd"
      },
      "execution_count": 90,
      "outputs": [
        {
          "output_type": "stream",
          "name": "stdout",
          "text": [
            "Pearsons correlation: 0.845\n",
            "Spearman correlation: 0.529\n"
          ]
        },
        {
          "output_type": "display_data",
          "data": {
            "image/png": "[encoded data removed]",
            "text/plain": [
              "<Figure size 1080x720 with 2 Axes>"
            ]
          },
          "metadata": {
            "needs_background": "light"
          }
        }
      ]
    },
    {
      "cell_type": "code",
      "source": [
        "df_cdc_tweets_county_state_year_counts.state.unique()"
      ],
      "metadata": {
        "colab": {
          "base_uri": "https://localhost:8080/"
        },
        "id": "z06kFh-SSFaI",
        "outputId": "dd87d5e8-dfb3-4de5-fa84-6cf7e6bb3203"
      },
      "execution_count": null,
      "outputs": [
        {
          "output_type": "execute_result",
          "data": {
            "text/plain": [
              "array(['South Carolina', 'Idaho', 'Kentucky', 'Missouri', 'Colorado',\n",
              "       'Illinois', 'Mississippi', 'Nebraska', 'Pennsylvania', 'Vermont',\n",
              "       'Florida', 'North Carolina', 'California', 'New York', 'Wyoming',\n",
              "       'Michigan', 'Maryland', 'Indiana', 'Ohio', 'Tennessee', 'Maine',\n",
              "       'Texas', 'Minnesota', 'Virginia', 'Louisiana', 'Wisconsin',\n",
              "       'New Jersey', 'Alabama', 'Massachusetts', 'Georgia', 'Arkansas',\n",
              "       'Oregon', 'Washington', 'West Virginia', 'New Mexico', 'Iowa',\n",
              "       'Rhode Island', 'South Dakota', 'Oklahoma', 'North Dakota',\n",
              "       'Kansas', 'Utah', 'New Hampshire', 'Nevada', 'Montana', 'Arizona',\n",
              "       'District of Columbia', 'Alaska', 'Connecticut', 'Hawaii',\n",
              "       'Delaware'], dtype=object)"
            ]
          },
          "metadata": {},
          "execution_count": 50
        }
      ]
    }
  ]
}